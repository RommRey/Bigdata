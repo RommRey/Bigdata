{
 "cells": [
  {
   "cell_type": "code",
   "execution_count": 1,
   "id": "ada9bf39",
   "metadata": {},
   "outputs": [],
   "source": [
    "#Importamos todas las librerías que vamos usar y el archivo de keys para acceder\n",
    "import requests\n",
    "import json\n",
    "from IPython.display import JSON\n",
    "from keys import *"
   ]
  },
  {
   "cell_type": "code",
   "execution_count": 2,
   "id": "41c2bd87",
   "metadata": {},
   "outputs": [],
   "source": [
    "#Ponemos la url de la api de los vuelos con el código de nuestra ciudad y país en este caso es YMML que es para melbourne \n",
    "\n",
    "url = \"https://aerodatabox.p.rapidapi.com/flights/airports/icao/YMML/2025-09-01T08:00/2025-09-01T20:00\"\n",
    "\n",
    "querystring = {\"withLeg\":\"true\",\"direction\":\"Arrival\",\"withCancelled\":\"true\",\"withCodeshared\":\"true\",\"withCargo\":\"true\",\"withPrivate\":\"true\",\"withLocation\":\"false\"}\n",
    "\n",
    "#Ponemos nuestros datos proporcionados por la api y la cuenta que hicimos en la página\n",
    "headers = {\n",
    "    'x-rapidapi-host': \"aerodatabox.p.rapidapi.com\",\n",
    "    'x-rapidapi-key': \"77cd5e6190mshbabec6d3965dd94p1667efjsn21302f39a238\"\n",
    "    }\n",
    "\n",
    "response = requests.request(\"GET\", url, headers=headers, params=querystring)\n"
   ]
  },
  {
   "cell_type": "code",
   "execution_count": 3,
   "id": "5ecdf979",
   "metadata": {},
   "outputs": [
    {
     "name": "stdout",
     "output_type": "stream",
     "text": [
      "Data appended to data.json file.\n"
     ]
    }
   ],
   "source": [
    "#generamos el json con todos los datos que estamos extrayendo\n",
    "\n",
    "if response.status_code == 200:\n",
    "    new_data = response.json()\n",
    "\n",
    "    try:\n",
    "        with open(\"data.json\", \"r\") as json_file:\n",
    "            existing_data = json.load(json_file)\n",
    "    except (FileNotFoundError, json.decoder.JSONDecodeError):\n",
    "        existing_data = []\n",
    "\n",
    "    existing_data.append(new_data)\n",
    "\n",
    "    with open(\"data.json\", \"w\") as json_file:\n",
    "        json.dump(existing_data, json_file, indent=4)\n",
    "        print(\"Data appended to data.json file.\")\n",
    "else:\n",
    "    print(\"Failed to retrieve data from the API. Status code:\", response.status_code)"
   ]
  },
  {
   "cell_type": "code",
   "execution_count": 4,
   "id": "f2d817e7",
   "metadata": {},
   "outputs": [],
   "source": [
    "#Llenamos y formamos el json con los datos que queremos para flights arrivals\n",
    "\n",
    "flight_arrivals = response.json()\n",
    "\n",
    "for flight in flight_arrivals:\n",
    "    flight_arrivals['arrivals'][0]['arrival']['scheduledTime']\n",
    "    flight_arrivals['arrivals'][0]['number']\n",
    "    flight_arrivals['arrivals'][0]['arrival']['terminal']\n",
    "    flight_arrivals['arrivals'][0]['departure']['airport']['name']\n",
    "    flight_arrivals['arrivals'][0]['aircraft']['model']\n",
    "    flight_arrivals['arrivals'][0]['airline']['name']\n",
    "\n"
   ]
  },
  {
   "cell_type": "code",
   "execution_count": 5,
   "id": "a3454276",
   "metadata": {},
   "outputs": [
    {
     "data": {
      "text/html": [
       "<div>\n",
       "<style scoped>\n",
       "    .dataframe tbody tr th:only-of-type {\n",
       "        vertical-align: middle;\n",
       "    }\n",
       "\n",
       "    .dataframe tbody tr th {\n",
       "        vertical-align: top;\n",
       "    }\n",
       "\n",
       "    .dataframe thead th {\n",
       "        text-align: right;\n",
       "    }\n",
       "</style>\n",
       "<table border=\"1\" class=\"dataframe\">\n",
       "  <thead>\n",
       "    <tr style=\"text-align: right;\">\n",
       "      <th></th>\n",
       "      <th>flight_number</th>\n",
       "      <th>from</th>\n",
       "      <th>airline</th>\n",
       "      <th>Scheduled_arrival_time.utc</th>\n",
       "      <th>Scheduled_arrival_time.local</th>\n",
       "    </tr>\n",
       "  </thead>\n",
       "  <tbody>\n",
       "    <tr>\n",
       "      <th>0</th>\n",
       "      <td>VA 204</td>\n",
       "      <td>Adelaide</td>\n",
       "      <td>Virgin Australia</td>\n",
       "      <td>2025-08-31 21:55Z</td>\n",
       "      <td>2025-09-01 07:55+10:00</td>\n",
       "    </tr>\n",
       "    <tr>\n",
       "      <th>0</th>\n",
       "      <td>VA 726</td>\n",
       "      <td>Gold</td>\n",
       "      <td>Virgin Australia</td>\n",
       "      <td>2025-08-31 22:25Z</td>\n",
       "      <td>2025-09-01 08:25+10:00</td>\n",
       "    </tr>\n",
       "    <tr>\n",
       "      <th>0</th>\n",
       "      <td>UA 6801</td>\n",
       "      <td>Wellington</td>\n",
       "      <td>United</td>\n",
       "      <td>2025-08-31 22:10Z</td>\n",
       "      <td>2025-09-01 08:10+10:00</td>\n",
       "    </tr>\n",
       "    <tr>\n",
       "      <th>0</th>\n",
       "      <td>EY 4436</td>\n",
       "      <td>Wellington</td>\n",
       "      <td>Etihad</td>\n",
       "      <td>2025-08-31 22:10Z</td>\n",
       "      <td>2025-09-01 08:10+10:00</td>\n",
       "    </tr>\n",
       "    <tr>\n",
       "      <th>0</th>\n",
       "      <td>VA 7153</td>\n",
       "      <td>Wellington</td>\n",
       "      <td>Virgin Australia</td>\n",
       "      <td>2025-08-31 22:10Z</td>\n",
       "      <td>2025-09-01 08:10+10:00</td>\n",
       "    </tr>\n",
       "  </tbody>\n",
       "</table>\n",
       "</div>"
      ],
      "text/plain": [
       "  flight_number        from           airline Scheduled_arrival_time.utc  \\\n",
       "0        VA 204    Adelaide  Virgin Australia          2025-08-31 21:55Z   \n",
       "0        VA 726        Gold  Virgin Australia          2025-08-31 22:25Z   \n",
       "0       UA 6801  Wellington            United          2025-08-31 22:10Z   \n",
       "0       EY 4436  Wellington            Etihad          2025-08-31 22:10Z   \n",
       "0       VA 7153  Wellington  Virgin Australia          2025-08-31 22:10Z   \n",
       "\n",
       "  Scheduled_arrival_time.local  \n",
       "0       2025-09-01 07:55+10:00  \n",
       "0       2025-09-01 08:25+10:00  \n",
       "0       2025-09-01 08:10+10:00  \n",
       "0       2025-09-01 08:10+10:00  \n",
       "0       2025-09-01 08:10+10:00  "
      ]
     },
     "execution_count": 5,
     "metadata": {},
     "output_type": "execute_result"
    }
   ],
   "source": [
    "#importamos pandas\n",
    "import pandas as pd\n",
    "from numpy import nan\n",
    "\n",
    "flight_arrivals = response.json()\n",
    "\n",
    "#hacemos la extracción de los datos y los ponemos en tabla  de los primeros 5 datos con el flight_arrivals.head\n",
    "\n",
    "def flight_extraction(flights):\n",
    "    flights_df = pd.json_normalize({\n",
    "        'Scheduled_arrival_time': flights['arrival']['scheduledTime'],\n",
    "        'flight_number': flights['number'],\n",
    "        'from' : flights['departure']['airport']['name'],\n",
    "        'airline' : flights['airline']['name'],\n",
    "    })\n",
    "    return(flights_df)\n",
    "\n",
    "flight_arrivals = pd.concat(\n",
    "    [flight_extraction(flight) for flight in flight_arrivals['arrivals']]\n",
    ")\n",
    "\n",
    "flight_arrivals.head()"
   ]
  }
 ],
 "metadata": {
  "kernelspec": {
   "display_name": "base",
   "language": "python",
   "name": "python3"
  },
  "language_info": {
   "codemirror_mode": {
    "name": "ipython",
    "version": 3
   },
   "file_extension": ".py",
   "mimetype": "text/x-python",
   "name": "python",
   "nbconvert_exporter": "python",
   "pygments_lexer": "ipython3",
   "version": "3.12.7"
  }
 },
 "nbformat": 4,
 "nbformat_minor": 5
}
