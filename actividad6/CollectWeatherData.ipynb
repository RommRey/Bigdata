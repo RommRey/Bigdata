{
 "cells": [
  {
   "cell_type": "code",
   "execution_count": 7,
   "id": "99e917f8",
   "metadata": {},
   "outputs": [],
   "source": [
    "import requests\n",
    "import pandas as pd\n",
    "import numpy as np\n",
    "from keys import *\n",
    "\n",
    "city = \"Sydney\"\n",
    "country = \"AU\"\n",
    "response = requests.get(f'http://api.openweathermap.org/data/2.5/forecast/?q={city},{country}&appid={OWM_key}&units=metric&lang=en')"
   ]
  },
  {
   "cell_type": "markdown",
   "id": "6fb2f6ef",
   "metadata": {},
   "source": []
  },
  {
   "cell_type": "code",
   "execution_count": 8,
   "id": "effad5b7",
   "metadata": {},
   "outputs": [
    {
     "name": "stdout",
     "output_type": "stream",
     "text": [
      "{'cod': '200', 'message': 0, 'cnt': 40, 'list': [{'dt': 1761782400, 'main': {'temp': 18.48, 'feels_like': 18.6, 'temp_min': 18.48, 'temp_max': 21.75, 'pressure': 1017, 'sea_level': 1017, 'grnd_level': 1011, 'humidity': 85, 'temp_kf': -3.27}, 'weather': [{'id': 500, 'main': 'Rain', 'description': 'light rain', 'icon': '10d'}], 'clouds': {'all': 41}, 'wind': {'speed': 5.31, 'deg': 195, 'gust': 5.54}, 'visibility': 10000, 'pop': 0.2, 'rain': {'3h': 0.27}, 'sys': {'pod': 'd'}, 'dt_txt': '2025-10-30 00:00:00'}, {'dt': 1761793200, 'main': {'temp': 20.13, 'feels_like': 20.1, 'temp_min': 20.13, 'temp_max': 21.78, 'pressure': 1016, 'sea_level': 1016, 'grnd_level': 1010, 'humidity': 73, 'temp_kf': -1.65}, 'weather': [{'id': 500, 'main': 'Rain', 'description': 'light rain', 'icon': '10d'}], 'clouds': {'all': 17}, 'wind': {'speed': 5.44, 'deg': 178, 'gust': 5.11}, 'visibility': 10000, 'pop': 0.2, 'rain': {'3h': 0.22}, 'sys': {'pod': 'd'}, 'dt_txt': '2025-10-30 03:00:00'}, {'dt': 1761804000, 'main': {'temp': 23.84, 'feels_like': 24, 'temp_min': 23.84, 'temp_max': 23.84, 'pressure': 1015, 'sea_level': 1015, 'grnd_level': 1010, 'humidity': 66, 'temp_kf': 0}, 'weather': [{'id': 800, 'main': 'Clear', 'description': 'clear sky', 'icon': '01d'}], 'clouds': {'all': 1}, 'wind': {'speed': 5.69, 'deg': 167, 'gust': 6.06}, 'visibility': 10000, 'pop': 0, 'sys': {'pod': 'd'}, 'dt_txt': '2025-10-30 06:00:00'}, {'dt': 1761814800, 'main': {'temp': 18.9, 'feels_like': 18.99, 'temp_min': 18.9, 'temp_max': 18.9, 'pressure': 1017, 'sea_level': 1017, 'grnd_level': 1012, 'humidity': 82, 'temp_kf': 0}, 'weather': [{'id': 800, 'main': 'Clear', 'description': 'clear sky', 'icon': '01n'}], 'clouds': {'all': 2}, 'wind': {'speed': 3.25, 'deg': 166, 'gust': 5.02}, 'visibility': 10000, 'pop': 0, 'sys': {'pod': 'n'}, 'dt_txt': '2025-10-30 09:00:00'}, {'dt': 1761825600, 'main': {'temp': 15.35, 'feels_like': 15.19, 'temp_min': 15.35, 'temp_max': 15.35, 'pressure': 1018, 'sea_level': 1018, 'grnd_level': 1013, 'humidity': 86, 'temp_kf': 0}, 'weather': [{'id': 802, 'main': 'Clouds', 'description': 'scattered clouds', 'icon': '03n'}], 'clouds': {'all': 26}, 'wind': {'speed': 1.58, 'deg': 237, 'gust': 0.67}, 'visibility': 10000, 'pop': 0, 'sys': {'pod': 'n'}, 'dt_txt': '2025-10-30 12:00:00'}, {'dt': 1761836400, 'main': {'temp': 15.63, 'feels_like': 15.62, 'temp_min': 15.63, 'temp_max': 15.63, 'pressure': 1018, 'sea_level': 1018, 'grnd_level': 1012, 'humidity': 91, 'temp_kf': 0}, 'weather': [{'id': 804, 'main': 'Clouds', 'description': 'overcast clouds', 'icon': '04n'}], 'clouds': {'all': 98}, 'wind': {'speed': 2.61, 'deg': 282, 'gust': 2.82}, 'visibility': 10000, 'pop': 0, 'sys': {'pod': 'n'}, 'dt_txt': '2025-10-30 15:00:00'}, {'dt': 1761847200, 'main': {'temp': 15.58, 'feels_like': 15.49, 'temp_min': 15.58, 'temp_max': 15.58, 'pressure': 1017, 'sea_level': 1017, 'grnd_level': 1012, 'humidity': 88, 'temp_kf': 0}, 'weather': [{'id': 804, 'main': 'Clouds', 'description': 'overcast clouds', 'icon': '04n'}], 'clouds': {'all': 99}, 'wind': {'speed': 2.02, 'deg': 290, 'gust': 2.24}, 'visibility': 10000, 'pop': 0, 'sys': {'pod': 'n'}, 'dt_txt': '2025-10-30 18:00:00'}, {'dt': 1761858000, 'main': {'temp': 17.83, 'feels_like': 17.65, 'temp_min': 17.83, 'temp_max': 17.83, 'pressure': 1019, 'sea_level': 1019, 'grnd_level': 1013, 'humidity': 76, 'temp_kf': 0}, 'weather': [{'id': 803, 'main': 'Clouds', 'description': 'broken clouds', 'icon': '04d'}], 'clouds': {'all': 75}, 'wind': {'speed': 2.12, 'deg': 295, 'gust': 2.06}, 'visibility': 10000, 'pop': 0, 'sys': {'pod': 'd'}, 'dt_txt': '2025-10-30 21:00:00'}, {'dt': 1761868800, 'main': {'temp': 21.68, 'feels_like': 21.55, 'temp_min': 21.68, 'temp_max': 21.68, 'pressure': 1018, 'sea_level': 1018, 'grnd_level': 1012, 'humidity': 63, 'temp_kf': 0}, 'weather': [{'id': 803, 'main': 'Clouds', 'description': 'broken clouds', 'icon': '04d'}], 'clouds': {'all': 54}, 'wind': {'speed': 3.87, 'deg': 68, 'gust': 4.12}, 'visibility': 10000, 'pop': 0, 'sys': {'pod': 'd'}, 'dt_txt': '2025-10-31 00:00:00'}, {'dt': 1761879600, 'main': {'temp': 22.48, 'feels_like': 22.43, 'temp_min': 22.48, 'temp_max': 22.48, 'pressure': 1016, 'sea_level': 1016, 'grnd_level': 1010, 'humidity': 63, 'temp_kf': 0}, 'weather': [{'id': 802, 'main': 'Clouds', 'description': 'scattered clouds', 'icon': '03d'}], 'clouds': {'all': 36}, 'wind': {'speed': 6.41, 'deg': 72, 'gust': 6.34}, 'visibility': 10000, 'pop': 0, 'sys': {'pod': 'd'}, 'dt_txt': '2025-10-31 03:00:00'}, {'dt': 1761890400, 'main': {'temp': 20.93, 'feels_like': 20.93, 'temp_min': 20.93, 'temp_max': 20.93, 'pressure': 1015, 'sea_level': 1015, 'grnd_level': 1009, 'humidity': 71, 'temp_kf': 0}, 'weather': [{'id': 803, 'main': 'Clouds', 'description': 'broken clouds', 'icon': '04d'}], 'clouds': {'all': 55}, 'wind': {'speed': 6.21, 'deg': 64, 'gust': 8.11}, 'visibility': 10000, 'pop': 0, 'sys': {'pod': 'd'}, 'dt_txt': '2025-10-31 06:00:00'}, {'dt': 1761901200, 'main': {'temp': 19.76, 'feels_like': 19.88, 'temp_min': 19.76, 'temp_max': 19.76, 'pressure': 1016, 'sea_level': 1016, 'grnd_level': 1011, 'humidity': 80, 'temp_kf': 0}, 'weather': [{'id': 804, 'main': 'Clouds', 'description': 'overcast clouds', 'icon': '04n'}], 'clouds': {'all': 99}, 'wind': {'speed': 4.72, 'deg': 36, 'gust': 9.21}, 'visibility': 10000, 'pop': 0, 'sys': {'pod': 'n'}, 'dt_txt': '2025-10-31 09:00:00'}, {'dt': 1761912000, 'main': {'temp': 19.23, 'feels_like': 19.4, 'temp_min': 19.23, 'temp_max': 19.23, 'pressure': 1016, 'sea_level': 1016, 'grnd_level': 1011, 'humidity': 84, 'temp_kf': 0}, 'weather': [{'id': 804, 'main': 'Clouds', 'description': 'overcast clouds', 'icon': '04n'}], 'clouds': {'all': 100}, 'wind': {'speed': 3.15, 'deg': 44, 'gust': 6.82}, 'visibility': 10000, 'pop': 0, 'sys': {'pod': 'n'}, 'dt_txt': '2025-10-31 12:00:00'}, {'dt': 1761922800, 'main': {'temp': 19.2, 'feels_like': 19.55, 'temp_min': 19.2, 'temp_max': 19.2, 'pressure': 1013, 'sea_level': 1013, 'grnd_level': 1008, 'humidity': 91, 'temp_kf': 0}, 'weather': [{'id': 804, 'main': 'Clouds', 'description': 'overcast clouds', 'icon': '04n'}], 'clouds': {'all': 100}, 'wind': {'speed': 4.07, 'deg': 27, 'gust': 10.09}, 'visibility': 10000, 'pop': 0, 'sys': {'pod': 'n'}, 'dt_txt': '2025-10-31 15:00:00'}, {'dt': 1761933600, 'main': {'temp': 19.33, 'feels_like': 19.72, 'temp_min': 19.33, 'temp_max': 19.33, 'pressure': 1013, 'sea_level': 1013, 'grnd_level': 1008, 'humidity': 92, 'temp_kf': 0}, 'weather': [{'id': 804, 'main': 'Clouds', 'description': 'overcast clouds', 'icon': '04n'}], 'clouds': {'all': 100}, 'wind': {'speed': 1.97, 'deg': 297, 'gust': 3.8}, 'visibility': 10000, 'pop': 0, 'sys': {'pod': 'n'}, 'dt_txt': '2025-10-31 18:00:00'}, {'dt': 1761944400, 'main': {'temp': 19.95, 'feels_like': 20.22, 'temp_min': 19.95, 'temp_max': 19.95, 'pressure': 1012, 'sea_level': 1012, 'grnd_level': 1007, 'humidity': 85, 'temp_kf': 0}, 'weather': [{'id': 500, 'main': 'Rain', 'description': 'light rain', 'icon': '10d'}], 'clouds': {'all': 100}, 'wind': {'speed': 2.05, 'deg': 55, 'gust': 2.55}, 'visibility': 10000, 'pop': 0.22, 'rain': {'3h': 0.15}, 'sys': {'pod': 'd'}, 'dt_txt': '2025-10-31 21:00:00'}, {'dt': 1761955200, 'main': {'temp': 25.12, 'feels_like': 25.1, 'temp_min': 25.12, 'temp_max': 25.12, 'pressure': 1011, 'sea_level': 1011, 'grnd_level': 1006, 'humidity': 54, 'temp_kf': 0}, 'weather': [{'id': 804, 'main': 'Clouds', 'description': 'overcast clouds', 'icon': '04d'}], 'clouds': {'all': 100}, 'wind': {'speed': 1.94, 'deg': 23, 'gust': 3.03}, 'visibility': 10000, 'pop': 0, 'sys': {'pod': 'd'}, 'dt_txt': '2025-11-01 00:00:00'}, {'dt': 1761966000, 'main': {'temp': 19.81, 'feels_like': 20.2, 'temp_min': 19.81, 'temp_max': 19.81, 'pressure': 1010, 'sea_level': 1010, 'grnd_level': 1005, 'humidity': 90, 'temp_kf': 0}, 'weather': [{'id': 500, 'main': 'Rain', 'description': 'light rain', 'icon': '10d'}], 'clouds': {'all': 67}, 'wind': {'speed': 6.46, 'deg': 142, 'gust': 8.89}, 'visibility': 10000, 'pop': 1, 'rain': {'3h': 2.89}, 'sys': {'pod': 'd'}, 'dt_txt': '2025-11-01 03:00:00'}, {'dt': 1761976800, 'main': {'temp': 19.77, 'feels_like': 19.89, 'temp_min': 19.77, 'temp_max': 19.77, 'pressure': 1011, 'sea_level': 1011, 'grnd_level': 1006, 'humidity': 80, 'temp_kf': 0}, 'weather': [{'id': 501, 'main': 'Rain', 'description': 'moderate rain', 'icon': '10d'}], 'clouds': {'all': 76}, 'wind': {'speed': 4.3, 'deg': 169, 'gust': 6.29}, 'visibility': 10000, 'pop': 1, 'rain': {'3h': 9.81}, 'sys': {'pod': 'd'}, 'dt_txt': '2025-11-01 06:00:00'}, {'dt': 1761987600, 'main': {'temp': 18.31, 'feels_like': 18.49, 'temp_min': 18.31, 'temp_max': 18.31, 'pressure': 1013, 'sea_level': 1013, 'grnd_level': 1008, 'humidity': 88, 'temp_kf': 0}, 'weather': [{'id': 801, 'main': 'Clouds', 'description': 'few clouds', 'icon': '02n'}], 'clouds': {'all': 15}, 'wind': {'speed': 3.65, 'deg': 190, 'gust': 5.13}, 'visibility': 10000, 'pop': 0, 'sys': {'pod': 'n'}, 'dt_txt': '2025-11-01 09:00:00'}, {'dt': 1761998400, 'main': {'temp': 18.5, 'feels_like': 18.7, 'temp_min': 18.5, 'temp_max': 18.5, 'pressure': 1014, 'sea_level': 1014, 'grnd_level': 1009, 'humidity': 88, 'temp_kf': 0}, 'weather': [{'id': 801, 'main': 'Clouds', 'description': 'few clouds', 'icon': '02n'}], 'clouds': {'all': 17}, 'wind': {'speed': 3.53, 'deg': 185, 'gust': 5.39}, 'visibility': 10000, 'pop': 0, 'sys': {'pod': 'n'}, 'dt_txt': '2025-11-01 12:00:00'}, {'dt': 1762009200, 'main': {'temp': 17.47, 'feels_like': 17.57, 'temp_min': 17.47, 'temp_max': 17.47, 'pressure': 1013, 'sea_level': 1013, 'grnd_level': 1007, 'humidity': 88, 'temp_kf': 0}, 'weather': [{'id': 802, 'main': 'Clouds', 'description': 'scattered clouds', 'icon': '03n'}], 'clouds': {'all': 42}, 'wind': {'speed': 4.95, 'deg': 196, 'gust': 7.52}, 'visibility': 10000, 'pop': 0, 'sys': {'pod': 'n'}, 'dt_txt': '2025-11-01 15:00:00'}, {'dt': 1762020000, 'main': {'temp': 16.99, 'feels_like': 17.07, 'temp_min': 16.99, 'temp_max': 16.99, 'pressure': 1012, 'sea_level': 1012, 'grnd_level': 1006, 'humidity': 89, 'temp_kf': 0}, 'weather': [{'id': 802, 'main': 'Clouds', 'description': 'scattered clouds', 'icon': '03n'}], 'clouds': {'all': 26}, 'wind': {'speed': 4.77, 'deg': 191, 'gust': 7.68}, 'visibility': 10000, 'pop': 0, 'sys': {'pod': 'n'}, 'dt_txt': '2025-11-01 18:00:00'}, {'dt': 1762030800, 'main': {'temp': 18.5, 'feels_like': 18.52, 'temp_min': 18.5, 'temp_max': 18.5, 'pressure': 1013, 'sea_level': 1013, 'grnd_level': 1008, 'humidity': 81, 'temp_kf': 0}, 'weather': [{'id': 803, 'main': 'Clouds', 'description': 'broken clouds', 'icon': '04d'}], 'clouds': {'all': 55}, 'wind': {'speed': 4.33, 'deg': 193, 'gust': 5.18}, 'visibility': 10000, 'pop': 0, 'sys': {'pod': 'd'}, 'dt_txt': '2025-11-01 21:00:00'}, {'dt': 1762041600, 'main': {'temp': 21.49, 'feels_like': 21.5, 'temp_min': 21.49, 'temp_max': 21.49, 'pressure': 1013, 'sea_level': 1013, 'grnd_level': 1008, 'humidity': 69, 'temp_kf': 0}, 'weather': [{'id': 803, 'main': 'Clouds', 'description': 'broken clouds', 'icon': '04d'}], 'clouds': {'all': 61}, 'wind': {'speed': 3.46, 'deg': 148, 'gust': 2.9}, 'visibility': 10000, 'pop': 0, 'sys': {'pod': 'd'}, 'dt_txt': '2025-11-02 00:00:00'}, {'dt': 1762052400, 'main': {'temp': 22.12, 'feels_like': 22.19, 'temp_min': 22.12, 'temp_max': 22.12, 'pressure': 1011, 'sea_level': 1011, 'grnd_level': 1006, 'humidity': 69, 'temp_kf': 0}, 'weather': [{'id': 800, 'main': 'Clear', 'description': 'clear sky', 'icon': '01d'}], 'clouds': {'all': 4}, 'wind': {'speed': 3.93, 'deg': 108, 'gust': 2.69}, 'visibility': 10000, 'pop': 0, 'sys': {'pod': 'd'}, 'dt_txt': '2025-11-02 03:00:00'}, {'dt': 1762063200, 'main': {'temp': 21.2, 'feels_like': 21.28, 'temp_min': 21.2, 'temp_max': 21.2, 'pressure': 1010, 'sea_level': 1010, 'grnd_level': 1005, 'humidity': 73, 'temp_kf': 0}, 'weather': [{'id': 800, 'main': 'Clear', 'description': 'clear sky', 'icon': '01d'}], 'clouds': {'all': 6}, 'wind': {'speed': 4.37, 'deg': 76, 'gust': 5.12}, 'visibility': 10000, 'pop': 0, 'sys': {'pod': 'd'}, 'dt_txt': '2025-11-02 06:00:00'}, {'dt': 1762074000, 'main': {'temp': 19.17, 'feels_like': 19.44, 'temp_min': 19.17, 'temp_max': 19.17, 'pressure': 1011, 'sea_level': 1011, 'grnd_level': 1006, 'humidity': 88, 'temp_kf': 0}, 'weather': [{'id': 800, 'main': 'Clear', 'description': 'clear sky', 'icon': '01n'}], 'clouds': {'all': 1}, 'wind': {'speed': 2.76, 'deg': 42, 'gust': 4.82}, 'visibility': 10000, 'pop': 0, 'sys': {'pod': 'n'}, 'dt_txt': '2025-11-02 09:00:00'}, {'dt': 1762084800, 'main': {'temp': 18.65, 'feels_like': 18.87, 'temp_min': 18.65, 'temp_max': 18.65, 'pressure': 1012, 'sea_level': 1012, 'grnd_level': 1007, 'humidity': 88, 'temp_kf': 0}, 'weather': [{'id': 802, 'main': 'Clouds', 'description': 'scattered clouds', 'icon': '03n'}], 'clouds': {'all': 41}, 'wind': {'speed': 1.75, 'deg': 358, 'gust': 2.61}, 'visibility': 10000, 'pop': 0, 'sys': {'pod': 'n'}, 'dt_txt': '2025-11-02 12:00:00'}, {'dt': 1762095600, 'main': {'temp': 18.16, 'feels_like': 18.28, 'temp_min': 18.16, 'temp_max': 18.16, 'pressure': 1010, 'sea_level': 1010, 'grnd_level': 1005, 'humidity': 86, 'temp_kf': 0}, 'weather': [{'id': 800, 'main': 'Clear', 'description': 'clear sky', 'icon': '01n'}], 'clouds': {'all': 7}, 'wind': {'speed': 2.18, 'deg': 355, 'gust': 2.89}, 'visibility': 10000, 'pop': 0, 'sys': {'pod': 'n'}, 'dt_txt': '2025-11-02 15:00:00'}, {'dt': 1762106400, 'main': {'temp': 17.8, 'feels_like': 17.83, 'temp_min': 17.8, 'temp_max': 17.8, 'pressure': 1009, 'sea_level': 1009, 'grnd_level': 1004, 'humidity': 84, 'temp_kf': 0}, 'weather': [{'id': 802, 'main': 'Clouds', 'description': 'scattered clouds', 'icon': '03n'}], 'clouds': {'all': 40}, 'wind': {'speed': 1.54, 'deg': 9, 'gust': 1.62}, 'visibility': 10000, 'pop': 0, 'sys': {'pod': 'n'}, 'dt_txt': '2025-11-02 18:00:00'}, {'dt': 1762117200, 'main': {'temp': 20.59, 'feels_like': 20.66, 'temp_min': 20.59, 'temp_max': 20.59, 'pressure': 1010, 'sea_level': 1010, 'grnd_level': 1005, 'humidity': 75, 'temp_kf': 0}, 'weather': [{'id': 800, 'main': 'Clear', 'description': 'clear sky', 'icon': '01d'}], 'clouds': {'all': 8}, 'wind': {'speed': 2.24, 'deg': 19, 'gust': 3.39}, 'visibility': 10000, 'pop': 0, 'sys': {'pod': 'd'}, 'dt_txt': '2025-11-02 21:00:00'}, {'dt': 1762128000, 'main': {'temp': 23.77, 'feels_like': 24, 'temp_min': 23.77, 'temp_max': 23.77, 'pressure': 1009, 'sea_level': 1009, 'grnd_level': 1004, 'humidity': 69, 'temp_kf': 0}, 'weather': [{'id': 802, 'main': 'Clouds', 'description': 'scattered clouds', 'icon': '03d'}], 'clouds': {'all': 41}, 'wind': {'speed': 4.52, 'deg': 56, 'gust': 5.29}, 'visibility': 10000, 'pop': 0, 'sys': {'pod': 'd'}, 'dt_txt': '2025-11-03 00:00:00'}, {'dt': 1762138800, 'main': {'temp': 23.83, 'feels_like': 24.15, 'temp_min': 23.83, 'temp_max': 23.83, 'pressure': 1007, 'sea_level': 1007, 'grnd_level': 1001, 'humidity': 72, 'temp_kf': 0}, 'weather': [{'id': 802, 'main': 'Clouds', 'description': 'scattered clouds', 'icon': '03d'}], 'clouds': {'all': 44}, 'wind': {'speed': 7.42, 'deg': 60, 'gust': 9.7}, 'visibility': 10000, 'pop': 0, 'sys': {'pod': 'd'}, 'dt_txt': '2025-11-03 03:00:00'}, {'dt': 1762149600, 'main': {'temp': 22.99, 'feels_like': 23.49, 'temp_min': 22.99, 'temp_max': 22.99, 'pressure': 1004, 'sea_level': 1004, 'grnd_level': 999, 'humidity': 82, 'temp_kf': 0}, 'weather': [{'id': 803, 'main': 'Clouds', 'description': 'broken clouds', 'icon': '04d'}], 'clouds': {'all': 74}, 'wind': {'speed': 9.04, 'deg': 50, 'gust': 15.8}, 'visibility': 10000, 'pop': 0, 'sys': {'pod': 'd'}, 'dt_txt': '2025-11-03 06:00:00'}, {'dt': 1762160400, 'main': {'temp': 21.73, 'feels_like': 22.26, 'temp_min': 21.73, 'temp_max': 21.73, 'pressure': 1004, 'sea_level': 1004, 'grnd_level': 999, 'humidity': 88, 'temp_kf': 0}, 'weather': [{'id': 804, 'main': 'Clouds', 'description': 'overcast clouds', 'icon': '04n'}], 'clouds': {'all': 100}, 'wind': {'speed': 9.48, 'deg': 39, 'gust': 19.66}, 'visibility': 10000, 'pop': 0, 'sys': {'pod': 'n'}, 'dt_txt': '2025-11-03 09:00:00'}, {'dt': 1762171200, 'main': {'temp': 21.52, 'feels_like': 22.16, 'temp_min': 21.52, 'temp_max': 21.52, 'pressure': 1003, 'sea_level': 1003, 'grnd_level': 997, 'humidity': 93, 'temp_kf': 0}, 'weather': [{'id': 804, 'main': 'Clouds', 'description': 'overcast clouds', 'icon': '04n'}], 'clouds': {'all': 100}, 'wind': {'speed': 6.16, 'deg': 41, 'gust': 14.78}, 'visibility': 10000, 'pop': 0, 'sys': {'pod': 'n'}, 'dt_txt': '2025-11-03 12:00:00'}, {'dt': 1762182000, 'main': {'temp': 21.09, 'feels_like': 21.76, 'temp_min': 21.09, 'temp_max': 21.09, 'pressure': 999, 'sea_level': 999, 'grnd_level': 994, 'humidity': 96, 'temp_kf': 0}, 'weather': [{'id': 804, 'main': 'Clouds', 'description': 'overcast clouds', 'icon': '04n'}], 'clouds': {'all': 99}, 'wind': {'speed': 5.98, 'deg': 38, 'gust': 11.51}, 'visibility': 10000, 'pop': 0, 'sys': {'pod': 'n'}, 'dt_txt': '2025-11-03 15:00:00'}, {'dt': 1762192800, 'main': {'temp': 23.18, 'feels_like': 23.28, 'temp_min': 23.18, 'temp_max': 23.18, 'pressure': 999, 'sea_level': 999, 'grnd_level': 994, 'humidity': 66, 'temp_kf': 0}, 'weather': [{'id': 804, 'main': 'Clouds', 'description': 'overcast clouds', 'icon': '04n'}], 'clouds': {'all': 85}, 'wind': {'speed': 5.98, 'deg': 338, 'gust': 13.91}, 'visibility': 10000, 'pop': 0, 'sys': {'pod': 'n'}, 'dt_txt': '2025-11-03 18:00:00'}, {'dt': 1762203600, 'main': {'temp': 20.33, 'feels_like': 19.67, 'temp_min': 20.33, 'temp_max': 20.33, 'pressure': 1004, 'sea_level': 1004, 'grnd_level': 999, 'humidity': 48, 'temp_kf': 0}, 'weather': [{'id': 802, 'main': 'Clouds', 'description': 'scattered clouds', 'icon': '03d'}], 'clouds': {'all': 48}, 'wind': {'speed': 9.88, 'deg': 302, 'gust': 17.41}, 'visibility': 10000, 'pop': 0, 'sys': {'pod': 'd'}, 'dt_txt': '2025-11-03 21:00:00'}], 'city': {'id': 2147714, 'name': 'Sydney', 'coord': {'lat': -33.8679, 'lon': 151.2073}, 'country': 'AU', 'population': 1000000, 'timezone': 39600, 'sunrise': 1761764215, 'sunset': 1761812436}}\n",
      "      weather_datetime  temperature  humidity weather_status  wind  rain_qty  \\\n",
      "0  2025-10-30 00:00:00        18.48        85           Rain  5.31      0.27   \n",
      "1  2025-10-30 03:00:00        20.13        73           Rain  5.44      0.22   \n",
      "2  2025-10-30 06:00:00        23.84        66          Clear  5.69       NaN   \n",
      "3  2025-10-30 09:00:00        18.90        82          Clear  3.25       NaN   \n",
      "4  2025-10-30 12:00:00        15.35        86         Clouds  1.58       NaN   \n",
      "\n",
      "   snow municipality_iso_country  \n",
      "0   NaN                Sydney,AU  \n",
      "1   NaN                Sydney,AU  \n",
      "2   NaN                Sydney,AU  \n",
      "3   NaN                Sydney,AU  \n",
      "4   NaN                Sydney,AU  \n"
     ]
    }
   ],
   "source": [
    "data = response.json()\n",
    "print (data)\n",
    "\n",
    "\n",
    "# Extract forecast list\n",
    "forecast_list = data.get('list', [])\n",
    "\n",
    "# Prepare lists for DataFrame columns\n",
    "times = []\n",
    "temperatures = []\n",
    "humidities = []\n",
    "weather_statuses = []\n",
    "wind_speeds = []\n",
    "rain_volumes = []\n",
    "snow_volumes = []\n",
    "\n",
    "for entry in forecast_list:\n",
    "    times.append(entry.get('dt_txt', np.nan))\n",
    "    temperatures.append(entry.get('main', {}).get('temp', np.nan))\n",
    "    humidities.append(entry.get('main', {}).get('humidity', np.nan))\n",
    "    weather_statuses.append(entry.get('weather', [{}])[0].get('main', np.nan))\n",
    "    wind_speeds.append(entry.get('wind', {}).get('speed', np.nan))\n",
    "    rain_volumes.append(entry.get('rain', {}).get('3h', np.nan))\n",
    "    snow_volumes.append(entry.get('snow', {}).get('3h', np.nan))\n",
    "\n",
    "# Create DataFrame\n",
    "df = pd.DataFrame({\n",
    "    'weather_datetime': times,\n",
    "    'temperature': temperatures,\n",
    "    'humidity': humidities,\n",
    "    'weather_status': weather_statuses,\n",
    "    'wind': wind_speeds,\n",
    "    'rain_qty': rain_volumes,\n",
    "    'snow': snow_volumes,\n",
    "    'municipality_iso_country': f\"Sydney,AU\"\n",
    "})\n",
    "\n",
    "print(df.head())"
   ]
  },
  {
   "cell_type": "code",
   "execution_count": 9,
   "id": "66f02639",
   "metadata": {},
   "outputs": [
    {
     "name": "stdout",
     "output_type": "stream",
     "text": [
      "Requirement already satisfied: pymysql in c:\\users\\romm\\anaconda3\\lib\\site-packages (1.1.2)\n",
      "Note: you may need to restart the kernel to use updated packages.\n"
     ]
    }
   ],
   "source": [
    "pip install pymysql"
   ]
  },
  {
   "cell_type": "code",
   "execution_count": 10,
   "id": "82d1d499",
   "metadata": {},
   "outputs": [],
   "source": [
    "import sqlalchemy\n",
    "import pymysql\n",
    "# connection details for the local mysql database\n",
    "schema = \"gans\"\n",
    "host = \"127.0.0.1\"\n",
    "user = \"root\"\n",
    "password = \"al0294rR651%J\"\n",
    "port = 3306\n",
    "con = f'mysql+pymysql://{user}:{password}@{host}:{port}/{schema}'"
   ]
  },
  {
   "cell_type": "code",
   "execution_count": 11,
   "id": "c086bed1",
   "metadata": {},
   "outputs": [
    {
     "data": {
      "text/plain": [
       "40"
      ]
     },
     "execution_count": 11,
     "metadata": {},
     "output_type": "execute_result"
    }
   ],
   "source": [
    "# send the weather data to the database\n",
    "df.to_sql('weather_data', if_exists = 'append', con = con, index=False)"
   ]
  }
 ],
 "metadata": {
  "kernelspec": {
   "display_name": "base",
   "language": "python",
   "name": "python3"
  },
  "language_info": {
   "codemirror_mode": {
    "name": "ipython",
    "version": 3
   },
   "file_extension": ".py",
   "mimetype": "text/x-python",
   "name": "python",
   "nbconvert_exporter": "python",
   "pygments_lexer": "ipython3",
   "version": "3.12.7"
  }
 },
 "nbformat": 4,
 "nbformat_minor": 5
}
