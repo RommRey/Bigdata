{
 "cells": [
  {
   "cell_type": "code",
   "execution_count": 3,
   "id": "99e917f8",
   "metadata": {},
   "outputs": [],
   "source": [
    "import requests\n",
    "import pandas as pd\n",
    "import numpy as np\n",
    "from keys import *\n",
    "\n",
    "city = \"Sydney\"\n",
    "country = \"AU\"\n",
    "response = requests.get(f'http://api.openweathermap.org/data/2.5/forecast/?q={city},{country}&appid={OWM_key}&units=metric&lang=en')"
   ]
  },
  {
   "cell_type": "code",
   "execution_count": 5,
   "id": "effad5b7",
   "metadata": {},
   "outputs": [
    {
     "name": "stdout",
     "output_type": "stream",
     "text": [
      "{'cod': '200', 'message': 0, 'cnt': 40, 'list': [{'dt': 1759363200, 'main': {'temp': 17.95, 'feels_like': 16.9, 'temp_min': 17.95, 'temp_max': 19.8, 'pressure': 1008, 'sea_level': 1008, 'grnd_level': 1002, 'humidity': 42, 'temp_kf': -1.85}, 'weather': [{'id': 801, 'main': 'Clouds', 'description': 'few clouds', 'icon': '02d'}], 'clouds': {'all': 20}, 'wind': {'speed': 4.59, 'deg': 307, 'gust': 9.18}, 'visibility': 10000, 'pop': 0, 'sys': {'pod': 'd'}, 'dt_txt': '2025-10-02 00:00:00'}, {'dt': 1759374000, 'main': {'temp': 22.34, 'feels_like': 21.41, 'temp_min': 22.34, 'temp_max': 25, 'pressure': 1006, 'sea_level': 1006, 'grnd_level': 1000, 'humidity': 30, 'temp_kf': -2.66}, 'weather': [{'id': 800, 'main': 'Clear', 'description': 'clear sky', 'icon': '01d'}], 'clouds': {'all': 1}, 'wind': {'speed': 9.42, 'deg': 284, 'gust': 14.15}, 'visibility': 10000, 'pop': 0, 'sys': {'pod': 'd'}, 'dt_txt': '2025-10-02 03:00:00'}, {'dt': 1759384800, 'main': {'temp': 16.89, 'feels_like': 15.89, 'temp_min': 16.89, 'temp_max': 16.89, 'pressure': 1008, 'sea_level': 1008, 'grnd_level': 1003, 'humidity': 48, 'temp_kf': 0}, 'weather': [{'id': 802, 'main': 'Clouds', 'description': 'scattered clouds', 'icon': '03d'}], 'clouds': {'all': 48}, 'wind': {'speed': 11.82, 'deg': 248, 'gust': 17.09}, 'visibility': 10000, 'pop': 0, 'sys': {'pod': 'd'}, 'dt_txt': '2025-10-02 06:00:00'}, {'dt': 1759395600, 'main': {'temp': 16.49, 'feels_like': 15.27, 'temp_min': 16.49, 'temp_max': 16.49, 'pressure': 1011, 'sea_level': 1011, 'grnd_level': 1006, 'humidity': 41, 'temp_kf': 0}, 'weather': [{'id': 803, 'main': 'Clouds', 'description': 'broken clouds', 'icon': '04n'}], 'clouds': {'all': 68}, 'wind': {'speed': 8.26, 'deg': 261, 'gust': 15.08}, 'visibility': 10000, 'pop': 0, 'sys': {'pod': 'n'}, 'dt_txt': '2025-10-02 09:00:00'}, {'dt': 1759406400, 'main': {'temp': 14.48, 'feels_like': 12.92, 'temp_min': 14.48, 'temp_max': 14.48, 'pressure': 1013, 'sea_level': 1013, 'grnd_level': 1008, 'humidity': 36, 'temp_kf': 0}, 'weather': [{'id': 802, 'main': 'Clouds', 'description': 'scattered clouds', 'icon': '03n'}], 'clouds': {'all': 34}, 'wind': {'speed': 6.59, 'deg': 257, 'gust': 15.1}, 'visibility': 10000, 'pop': 0, 'sys': {'pod': 'n'}, 'dt_txt': '2025-10-02 12:00:00'}, {'dt': 1759417200, 'main': {'temp': 14.37, 'feels_like': 12.85, 'temp_min': 14.37, 'temp_max': 14.37, 'pressure': 1014, 'sea_level': 1014, 'grnd_level': 1009, 'humidity': 38, 'temp_kf': 0}, 'weather': [{'id': 800, 'main': 'Clear', 'description': 'clear sky', 'icon': '01n'}], 'clouds': {'all': 2}, 'wind': {'speed': 5.79, 'deg': 251, 'gust': 11.98}, 'visibility': 10000, 'pop': 0, 'sys': {'pod': 'n'}, 'dt_txt': '2025-10-02 15:00:00'}, {'dt': 1759428000, 'main': {'temp': 13.01, 'feels_like': 11.59, 'temp_min': 13.01, 'temp_max': 13.01, 'pressure': 1015, 'sea_level': 1015, 'grnd_level': 1010, 'humidity': 47, 'temp_kf': 0}, 'weather': [{'id': 800, 'main': 'Clear', 'description': 'clear sky', 'icon': '01n'}], 'clouds': {'all': 1}, 'wind': {'speed': 4.5, 'deg': 253, 'gust': 9.79}, 'visibility': 10000, 'pop': 0, 'sys': {'pod': 'n'}, 'dt_txt': '2025-10-02 18:00:00'}, {'dt': 1759438800, 'main': {'temp': 13.91, 'feels_like': 12.61, 'temp_min': 13.91, 'temp_max': 13.91, 'pressure': 1017, 'sea_level': 1017, 'grnd_level': 1011, 'humidity': 48, 'temp_kf': 0}, 'weather': [{'id': 800, 'main': 'Clear', 'description': 'clear sky', 'icon': '01d'}], 'clouds': {'all': 0}, 'wind': {'speed': 4.75, 'deg': 259, 'gust': 9.22}, 'visibility': 10000, 'pop': 0, 'sys': {'pod': 'd'}, 'dt_txt': '2025-10-02 21:00:00'}, {'dt': 1759449600, 'main': {'temp': 19.4, 'feels_like': 18.26, 'temp_min': 19.4, 'temp_max': 19.4, 'pressure': 1017, 'sea_level': 1017, 'grnd_level': 1011, 'humidity': 33, 'temp_kf': 0}, 'weather': [{'id': 800, 'main': 'Clear', 'description': 'clear sky', 'icon': '01d'}], 'clouds': {'all': 0}, 'wind': {'speed': 6.26, 'deg': 248, 'gust': 8.86}, 'visibility': 10000, 'pop': 0, 'sys': {'pod': 'd'}, 'dt_txt': '2025-10-03 00:00:00'}, {'dt': 1759460400, 'main': {'temp': 21.6, 'feels_like': 20.73, 'temp_min': 21.6, 'temp_max': 21.6, 'pressure': 1014, 'sea_level': 1014, 'grnd_level': 1009, 'humidity': 35, 'temp_kf': 0}, 'weather': [{'id': 800, 'main': 'Clear', 'description': 'clear sky', 'icon': '01d'}], 'clouds': {'all': 0}, 'wind': {'speed': 4.36, 'deg': 174, 'gust': 7.23}, 'visibility': 10000, 'pop': 0, 'sys': {'pod': 'd'}, 'dt_txt': '2025-10-03 03:00:00'}, {'dt': 1759471200, 'main': {'temp': 22.01, 'feels_like': 21.21, 'temp_min': 22.01, 'temp_max': 22.01, 'pressure': 1015, 'sea_level': 1015, 'grnd_level': 1009, 'humidity': 36, 'temp_kf': 0}, 'weather': [{'id': 800, 'main': 'Clear', 'description': 'clear sky', 'icon': '01d'}], 'clouds': {'all': 3}, 'wind': {'speed': 4.47, 'deg': 206, 'gust': 7.87}, 'visibility': 10000, 'pop': 0, 'sys': {'pod': 'd'}, 'dt_txt': '2025-10-03 06:00:00'}, {'dt': 1759482000, 'main': {'temp': 19.43, 'feels_like': 18.66, 'temp_min': 19.43, 'temp_max': 19.43, 'pressure': 1018, 'sea_level': 1018, 'grnd_level': 1013, 'humidity': 47, 'temp_kf': 0}, 'weather': [{'id': 800, 'main': 'Clear', 'description': 'clear sky', 'icon': '01n'}], 'clouds': {'all': 10}, 'wind': {'speed': 4.25, 'deg': 210, 'gust': 8.58}, 'visibility': 10000, 'pop': 0, 'sys': {'pod': 'n'}, 'dt_txt': '2025-10-03 09:00:00'}, {'dt': 1759492800, 'main': {'temp': 17.34, 'feels_like': 16.51, 'temp_min': 17.34, 'temp_max': 17.34, 'pressure': 1021, 'sea_level': 1021, 'grnd_level': 1016, 'humidity': 53, 'temp_kf': 0}, 'weather': [{'id': 801, 'main': 'Clouds', 'description': 'few clouds', 'icon': '02n'}], 'clouds': {'all': 17}, 'wind': {'speed': 3.34, 'deg': 187, 'gust': 5.96}, 'visibility': 10000, 'pop': 0, 'sys': {'pod': 'n'}, 'dt_txt': '2025-10-03 12:00:00'}, {'dt': 1759503600, 'main': {'temp': 15.52, 'feels_like': 14.77, 'temp_min': 15.52, 'temp_max': 15.52, 'pressure': 1022, 'sea_level': 1022, 'grnd_level': 1016, 'humidity': 63, 'temp_kf': 0}, 'weather': [{'id': 801, 'main': 'Clouds', 'description': 'few clouds', 'icon': '02n'}], 'clouds': {'all': 21}, 'wind': {'speed': 2.29, 'deg': 246, 'gust': 3.44}, 'visibility': 10000, 'pop': 0, 'sys': {'pod': 'n'}, 'dt_txt': '2025-10-03 15:00:00'}, {'dt': 1759514400, 'main': {'temp': 13.54, 'feels_like': 12.62, 'temp_min': 13.54, 'temp_max': 13.54, 'pressure': 1023, 'sea_level': 1023, 'grnd_level': 1017, 'humidity': 64, 'temp_kf': 0}, 'weather': [{'id': 802, 'main': 'Clouds', 'description': 'scattered clouds', 'icon': '03n'}], 'clouds': {'all': 27}, 'wind': {'speed': 3.39, 'deg': 239, 'gust': 6.09}, 'visibility': 10000, 'pop': 0, 'sys': {'pod': 'n'}, 'dt_txt': '2025-10-03 18:00:00'}, {'dt': 1759525200, 'main': {'temp': 15.66, 'feels_like': 14.95, 'temp_min': 15.66, 'temp_max': 15.66, 'pressure': 1024, 'sea_level': 1024, 'grnd_level': 1019, 'humidity': 64, 'temp_kf': 0}, 'weather': [{'id': 800, 'main': 'Clear', 'description': 'clear sky', 'icon': '01d'}], 'clouds': {'all': 10}, 'wind': {'speed': 3.57, 'deg': 203, 'gust': 4.92}, 'visibility': 10000, 'pop': 0, 'sys': {'pod': 'd'}, 'dt_txt': '2025-10-03 21:00:00'}, {'dt': 1759536000, 'main': {'temp': 19.13, 'feels_like': 18.48, 'temp_min': 19.13, 'temp_max': 19.13, 'pressure': 1025, 'sea_level': 1025, 'grnd_level': 1020, 'humidity': 53, 'temp_kf': 0}, 'weather': [{'id': 801, 'main': 'Clouds', 'description': 'few clouds', 'icon': '02d'}], 'clouds': {'all': 22}, 'wind': {'speed': 4.02, 'deg': 163, 'gust': 3.66}, 'visibility': 10000, 'pop': 0, 'sys': {'pod': 'd'}, 'dt_txt': '2025-10-04 00:00:00'}, {'dt': 1759546800, 'main': {'temp': 19.82, 'feels_like': 19.11, 'temp_min': 19.82, 'temp_max': 19.82, 'pressure': 1024, 'sea_level': 1024, 'grnd_level': 1018, 'humidity': 48, 'temp_kf': 0}, 'weather': [{'id': 801, 'main': 'Clouds', 'description': 'few clouds', 'icon': '02d'}], 'clouds': {'all': 15}, 'wind': {'speed': 4.11, 'deg': 126, 'gust': 3.06}, 'visibility': 10000, 'pop': 0, 'sys': {'pod': 'd'}, 'dt_txt': '2025-10-04 03:00:00'}, {'dt': 1759557600, 'main': {'temp': 18.41, 'feels_like': 17.72, 'temp_min': 18.41, 'temp_max': 18.41, 'pressure': 1022, 'sea_level': 1022, 'grnd_level': 1017, 'humidity': 54, 'temp_kf': 0}, 'weather': [{'id': 801, 'main': 'Clouds', 'description': 'few clouds', 'icon': '02d'}], 'clouds': {'all': 20}, 'wind': {'speed': 4.64, 'deg': 101, 'gust': 4.09}, 'visibility': 10000, 'pop': 0, 'sys': {'pod': 'd'}, 'dt_txt': '2025-10-04 06:00:00'}, {'dt': 1759568400, 'main': {'temp': 16.06, 'feels_like': 15.44, 'temp_min': 16.06, 'temp_max': 16.06, 'pressure': 1024, 'sea_level': 1024, 'grnd_level': 1018, 'humidity': 66, 'temp_kf': 0}, 'weather': [{'id': 802, 'main': 'Clouds', 'description': 'scattered clouds', 'icon': '03n'}], 'clouds': {'all': 30}, 'wind': {'speed': 2.51, 'deg': 79, 'gust': 3.39}, 'visibility': 10000, 'pop': 0, 'sys': {'pod': 'n'}, 'dt_txt': '2025-10-04 09:00:00'}, {'dt': 1759579200, 'main': {'temp': 15.52, 'feels_like': 14.96, 'temp_min': 15.52, 'temp_max': 15.52, 'pressure': 1024, 'sea_level': 1024, 'grnd_level': 1019, 'humidity': 70, 'temp_kf': 0}, 'weather': [{'id': 801, 'main': 'Clouds', 'description': 'few clouds', 'icon': '02n'}], 'clouds': {'all': 22}, 'wind': {'speed': 1.98, 'deg': 357, 'gust': 2.7}, 'visibility': 10000, 'pop': 0, 'sys': {'pod': 'n'}, 'dt_txt': '2025-10-04 12:00:00'}, {'dt': 1759590000, 'main': {'temp': 13.91, 'feels_like': 13.34, 'temp_min': 13.91, 'temp_max': 13.91, 'pressure': 1023, 'sea_level': 1023, 'grnd_level': 1017, 'humidity': 76, 'temp_kf': 0}, 'weather': [{'id': 802, 'main': 'Clouds', 'description': 'scattered clouds', 'icon': '03n'}], 'clouds': {'all': 48}, 'wind': {'speed': 2.29, 'deg': 327, 'gust': 2.98}, 'visibility': 10000, 'pop': 0, 'sys': {'pod': 'n'}, 'dt_txt': '2025-10-04 15:00:00'}, {'dt': 1759600800, 'main': {'temp': 12.81, 'feels_like': 12.24, 'temp_min': 12.81, 'temp_max': 12.81, 'pressure': 1021, 'sea_level': 1021, 'grnd_level': 1016, 'humidity': 80, 'temp_kf': 0}, 'weather': [{'id': 803, 'main': 'Clouds', 'description': 'broken clouds', 'icon': '04n'}], 'clouds': {'all': 74}, 'wind': {'speed': 2.87, 'deg': 314, 'gust': 4.13}, 'visibility': 10000, 'pop': 0, 'sys': {'pod': 'n'}, 'dt_txt': '2025-10-04 18:00:00'}, {'dt': 1759611600, 'main': {'temp': 14.65, 'feels_like': 14.05, 'temp_min': 14.65, 'temp_max': 14.65, 'pressure': 1021, 'sea_level': 1021, 'grnd_level': 1016, 'humidity': 72, 'temp_kf': 0}, 'weather': [{'id': 804, 'main': 'Clouds', 'description': 'overcast clouds', 'icon': '04d'}], 'clouds': {'all': 100}, 'wind': {'speed': 3.03, 'deg': 324, 'gust': 4.61}, 'visibility': 10000, 'pop': 0, 'sys': {'pod': 'd'}, 'dt_txt': '2025-10-04 21:00:00'}, {'dt': 1759622400, 'main': {'temp': 23.3, 'feels_like': 22.7, 'temp_min': 23.3, 'temp_max': 23.3, 'pressure': 1020, 'sea_level': 1020, 'grnd_level': 1015, 'humidity': 39, 'temp_kf': 0}, 'weather': [{'id': 804, 'main': 'Clouds', 'description': 'overcast clouds', 'icon': '04d'}], 'clouds': {'all': 100}, 'wind': {'speed': 2.06, 'deg': 340, 'gust': 3.65}, 'visibility': 10000, 'pop': 0, 'sys': {'pod': 'd'}, 'dt_txt': '2025-10-05 00:00:00'}, {'dt': 1759633200, 'main': {'temp': 26.16, 'feels_like': 26.16, 'temp_min': 26.16, 'temp_max': 26.16, 'pressure': 1017, 'sea_level': 1017, 'grnd_level': 1011, 'humidity': 37, 'temp_kf': 0}, 'weather': [{'id': 801, 'main': 'Clouds', 'description': 'few clouds', 'icon': '02d'}], 'clouds': {'all': 11}, 'wind': {'speed': 4.24, 'deg': 53, 'gust': 3.72}, 'visibility': 10000, 'pop': 0, 'sys': {'pod': 'd'}, 'dt_txt': '2025-10-05 03:00:00'}, {'dt': 1759644000, 'main': {'temp': 24.75, 'feels_like': 24.56, 'temp_min': 24.75, 'temp_max': 24.75, 'pressure': 1014, 'sea_level': 1014, 'grnd_level': 1009, 'humidity': 49, 'temp_kf': 0}, 'weather': [{'id': 802, 'main': 'Clouds', 'description': 'scattered clouds', 'icon': '03d'}], 'clouds': {'all': 46}, 'wind': {'speed': 5.74, 'deg': 30, 'gust': 7.94}, 'visibility': 10000, 'pop': 0, 'sys': {'pod': 'd'}, 'dt_txt': '2025-10-05 06:00:00'}, {'dt': 1759654800, 'main': {'temp': 21.52, 'feels_like': 21.19, 'temp_min': 21.52, 'temp_max': 21.52, 'pressure': 1014, 'sea_level': 1014, 'grnd_level': 1009, 'humidity': 56, 'temp_kf': 0}, 'weather': [{'id': 802, 'main': 'Clouds', 'description': 'scattered clouds', 'icon': '03n'}], 'clouds': {'all': 49}, 'wind': {'speed': 3.43, 'deg': 336, 'gust': 5.3}, 'visibility': 10000, 'pop': 0, 'sys': {'pod': 'n'}, 'dt_txt': '2025-10-05 09:00:00'}, {'dt': 1759665600, 'main': {'temp': 21.98, 'feels_like': 21.28, 'temp_min': 21.98, 'temp_max': 21.98, 'pressure': 1015, 'sea_level': 1015, 'grnd_level': 1010, 'humidity': 40, 'temp_kf': 0}, 'weather': [{'id': 802, 'main': 'Clouds', 'description': 'scattered clouds', 'icon': '03n'}], 'clouds': {'all': 29}, 'wind': {'speed': 4.76, 'deg': 315, 'gust': 10.84}, 'visibility': 10000, 'pop': 0, 'sys': {'pod': 'n'}, 'dt_txt': '2025-10-05 12:00:00'}, {'dt': 1759676400, 'main': {'temp': 20.69, 'feels_like': 19.86, 'temp_min': 20.69, 'temp_max': 20.69, 'pressure': 1013, 'sea_level': 1013, 'grnd_level': 1008, 'humidity': 40, 'temp_kf': 0}, 'weather': [{'id': 802, 'main': 'Clouds', 'description': 'scattered clouds', 'icon': '03n'}], 'clouds': {'all': 25}, 'wind': {'speed': 4.65, 'deg': 327, 'gust': 10.22}, 'visibility': 10000, 'pop': 0, 'sys': {'pod': 'n'}, 'dt_txt': '2025-10-05 15:00:00'}, {'dt': 1759687200, 'main': {'temp': 20.4, 'feels_like': 19.49, 'temp_min': 20.4, 'temp_max': 20.4, 'pressure': 1012, 'sea_level': 1012, 'grnd_level': 1007, 'humidity': 38, 'temp_kf': 0}, 'weather': [{'id': 802, 'main': 'Clouds', 'description': 'scattered clouds', 'icon': '03n'}], 'clouds': {'all': 38}, 'wind': {'speed': 4.88, 'deg': 325, 'gust': 11.27}, 'visibility': 10000, 'pop': 0, 'sys': {'pod': 'n'}, 'dt_txt': '2025-10-05 18:00:00'}, {'dt': 1759698000, 'main': {'temp': 22.12, 'feels_like': 21.3, 'temp_min': 22.12, 'temp_max': 22.12, 'pressure': 1012, 'sea_level': 1012, 'grnd_level': 1007, 'humidity': 35, 'temp_kf': 0}, 'weather': [{'id': 803, 'main': 'Clouds', 'description': 'broken clouds', 'icon': '04d'}], 'clouds': {'all': 57}, 'wind': {'speed': 4.45, 'deg': 327, 'gust': 11.89}, 'visibility': 10000, 'pop': 0, 'sys': {'pod': 'd'}, 'dt_txt': '2025-10-05 21:00:00'}, {'dt': 1759708800, 'main': {'temp': 29.95, 'feels_like': 28.17, 'temp_min': 29.95, 'temp_max': 29.95, 'pressure': 1012, 'sea_level': 1012, 'grnd_level': 1007, 'humidity': 19, 'temp_kf': 0}, 'weather': [{'id': 803, 'main': 'Clouds', 'description': 'broken clouds', 'icon': '04d'}], 'clouds': {'all': 80}, 'wind': {'speed': 8.29, 'deg': 281, 'gust': 16.08}, 'visibility': 10000, 'pop': 0, 'sys': {'pod': 'd'}, 'dt_txt': '2025-10-06 00:00:00'}, {'dt': 1759719600, 'main': {'temp': 31.58, 'feels_like': 29.55, 'temp_min': 31.58, 'temp_max': 31.58, 'pressure': 1010, 'sea_level': 1010, 'grnd_level': 1005, 'humidity': 19, 'temp_kf': 0}, 'weather': [{'id': 804, 'main': 'Clouds', 'description': 'overcast clouds', 'icon': '04d'}], 'clouds': {'all': 100}, 'wind': {'speed': 7.37, 'deg': 276, 'gust': 11.94}, 'visibility': 10000, 'pop': 0, 'sys': {'pod': 'd'}, 'dt_txt': '2025-10-06 03:00:00'}, {'dt': 1759730400, 'main': {'temp': 26.26, 'feels_like': 26.26, 'temp_min': 26.26, 'temp_max': 26.26, 'pressure': 1011, 'sea_level': 1011, 'grnd_level': 1006, 'humidity': 46, 'temp_kf': 0}, 'weather': [{'id': 804, 'main': 'Clouds', 'description': 'overcast clouds', 'icon': '04d'}], 'clouds': {'all': 100}, 'wind': {'speed': 6.56, 'deg': 166, 'gust': 9.59}, 'visibility': 10000, 'pop': 0, 'sys': {'pod': 'd'}, 'dt_txt': '2025-10-06 06:00:00'}, {'dt': 1759741200, 'main': {'temp': 18.78, 'feels_like': 18.78, 'temp_min': 18.78, 'temp_max': 18.78, 'pressure': 1016, 'sea_level': 1016, 'grnd_level': 1011, 'humidity': 79, 'temp_kf': 0}, 'weather': [{'id': 804, 'main': 'Clouds', 'description': 'overcast clouds', 'icon': '04n'}], 'clouds': {'all': 97}, 'wind': {'speed': 6.17, 'deg': 141, 'gust': 7.63}, 'visibility': 10000, 'pop': 0, 'sys': {'pod': 'n'}, 'dt_txt': '2025-10-06 09:00:00'}, {'dt': 1759752000, 'main': {'temp': 18.57, 'feels_like': 18.52, 'temp_min': 18.57, 'temp_max': 18.57, 'pressure': 1018, 'sea_level': 1018, 'grnd_level': 1012, 'humidity': 78, 'temp_kf': 0}, 'weather': [{'id': 804, 'main': 'Clouds', 'description': 'overcast clouds', 'icon': '04n'}], 'clouds': {'all': 98}, 'wind': {'speed': 2.03, 'deg': 107, 'gust': 2.25}, 'visibility': 10000, 'pop': 0, 'sys': {'pod': 'n'}, 'dt_txt': '2025-10-06 12:00:00'}, {'dt': 1759762800, 'main': {'temp': 17.96, 'feels_like': 17.98, 'temp_min': 17.96, 'temp_max': 17.96, 'pressure': 1015, 'sea_level': 1015, 'grnd_level': 1010, 'humidity': 83, 'temp_kf': 0}, 'weather': [{'id': 804, 'main': 'Clouds', 'description': 'overcast clouds', 'icon': '04n'}], 'clouds': {'all': 100}, 'wind': {'speed': 3.04, 'deg': 16, 'gust': 4.38}, 'visibility': 10000, 'pop': 0, 'sys': {'pod': 'n'}, 'dt_txt': '2025-10-06 15:00:00'}, {'dt': 1759773600, 'main': {'temp': 17.66, 'feels_like': 17.73, 'temp_min': 17.66, 'temp_max': 17.66, 'pressure': 1014, 'sea_level': 1014, 'grnd_level': 1008, 'humidity': 86, 'temp_kf': 0}, 'weather': [{'id': 804, 'main': 'Clouds', 'description': 'overcast clouds', 'icon': '04n'}], 'clouds': {'all': 100}, 'wind': {'speed': 2.49, 'deg': 350, 'gust': 4.88}, 'visibility': 10000, 'pop': 0, 'sys': {'pod': 'n'}, 'dt_txt': '2025-10-06 18:00:00'}, {'dt': 1759784400, 'main': {'temp': 18.49, 'feels_like': 18.48, 'temp_min': 18.49, 'temp_max': 18.49, 'pressure': 1014, 'sea_level': 1014, 'grnd_level': 1009, 'humidity': 80, 'temp_kf': 0}, 'weather': [{'id': 804, 'main': 'Clouds', 'description': 'overcast clouds', 'icon': '04d'}], 'clouds': {'all': 100}, 'wind': {'speed': 1.91, 'deg': 296, 'gust': 3.35}, 'visibility': 10000, 'pop': 0, 'sys': {'pod': 'd'}, 'dt_txt': '2025-10-06 21:00:00'}], 'city': {'id': 2147714, 'name': 'Sydney', 'coord': {'lat': -33.8679, 'lon': 151.2073}, 'country': 'AU', 'population': 1000000, 'timezone': 36000, 'sunrise': 1759347071, 'sunset': 1759391874}}\n",
      "                  time  temperature  humidity weather_status  wind_speed  \\\n",
      "0  2025-10-02 00:00:00        17.95        42         Clouds        4.59   \n",
      "1  2025-10-02 03:00:00        22.34        30          Clear        9.42   \n",
      "2  2025-10-02 06:00:00        16.89        48         Clouds       11.82   \n",
      "3  2025-10-02 09:00:00        16.49        41         Clouds        8.26   \n",
      "4  2025-10-02 12:00:00        14.48        36         Clouds        6.59   \n",
      "\n",
      "   rain_volume_3h  snow_volume_3h  \n",
      "0             NaN             NaN  \n",
      "1             NaN             NaN  \n",
      "2             NaN             NaN  \n",
      "3             NaN             NaN  \n",
      "4             NaN             NaN  \n"
     ]
    }
   ],
   "source": [
    "data = response.json()\n",
    "print (data)\n",
    "\n",
    "\n",
    "# Extract forecast list\n",
    "forecast_list = data.get('list', [])\n",
    "\n",
    "# Prepare lists for DataFrame columns\n",
    "times = []\n",
    "temperatures = []\n",
    "humidities = []\n",
    "weather_statuses = []\n",
    "wind_speeds = []\n",
    "rain_volumes = []\n",
    "snow_volumes = []\n",
    "\n",
    "for entry in forecast_list:\n",
    "    times.append(entry.get('dt_txt', np.nan))\n",
    "    temperatures.append(entry.get('main', {}).get('temp', np.nan))\n",
    "    humidities.append(entry.get('main', {}).get('humidity', np.nan))\n",
    "    weather_statuses.append(entry.get('weather', [{}])[0].get('main', np.nan))\n",
    "    wind_speeds.append(entry.get('wind', {}).get('speed', np.nan))\n",
    "    rain_volumes.append(entry.get('rain', {}).get('3h', np.nan))\n",
    "    snow_volumes.append(entry.get('snow', {}).get('3h', np.nan))\n",
    "\n",
    "# Create DataFrame\n",
    "df = pd.DataFrame({\n",
    "    'time': times,\n",
    "    'temperature': temperatures,\n",
    "    'humidity': humidities,\n",
    "    'weather_status': weather_statuses,\n",
    "    'wind_speed': wind_speeds,\n",
    "    'rain_volume_3h': rain_volumes,\n",
    "    'snow_volume_3h': snow_volumes\n",
    "})\n",
    "\n",
    "print(df.head())"
   ]
  },
  {
   "cell_type": "markdown",
   "id": "787769e8",
   "metadata": {},
   "source": []
  }
 ],
 "metadata": {
  "kernelspec": {
   "display_name": "base",
   "language": "python",
   "name": "python3"
  },
  "language_info": {
   "codemirror_mode": {
    "name": "ipython",
    "version": 3
   },
   "file_extension": ".py",
   "mimetype": "text/x-python",
   "name": "python",
   "nbconvert_exporter": "python",
   "pygments_lexer": "ipython3",
   "version": "3.12.7"
  }
 },
 "nbformat": 4,
 "nbformat_minor": 5
}
